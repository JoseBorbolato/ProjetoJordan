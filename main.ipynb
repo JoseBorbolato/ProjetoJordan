{
 "metadata": {
  "language_info": {
   "codemirror_mode": {
    "name": "ipython",
    "version": 3
   },
   "file_extension": ".py",
   "mimetype": "text/x-python",
   "name": "python",
   "nbconvert_exporter": "python",
   "pygments_lexer": "ipython3",
   "version": "3.9.4"
  },
  "orig_nbformat": 2,
  "kernelspec": {
   "name": "pythonjvsc74a57bd044f4198749362d47de1c8a51b498d67e90379e5df25dcf50a8bf6495f4ce01e5",
   "display_name": "Python 3.9.4 64-bit ('venv': venv)"
  },
  "metadata": {
   "interpreter": {
    "hash": "44f4198749362d47de1c8a51b498d67e90379e5df25dcf50a8bf6495f4ce01e5"
   }
  }
 },
 "nbformat": 4,
 "nbformat_minor": 2,
 "cells": [
  {
   "cell_type": "code",
   "execution_count": 35,
   "metadata": {},
   "outputs": [],
   "source": [
    "from sqlalchemy import create_engine\n",
    "import pandas as pd\n",
    "import os\n"
   ]
  },
  {
   "cell_type": "code",
   "execution_count": 36,
   "metadata": {},
   "outputs": [],
   "source": [
    "DIRDEFAULT = os.path.abspath('.')\n",
    "DIRARQ = os.path.join(os.path.abspath('.'), 'arq')\n",
    "BANCODADOS = 'meubanco.db'\n",
    "strconexao = f'sqlite:///{os.path.join(DIRDEFAULT, BANCODADOS)}'"
   ]
  },
  {
   "cell_type": "code",
   "execution_count": 37,
   "metadata": {},
   "outputs": [
    {
     "output_type": "execute_result",
     "data": {
      "text/plain": [
       "<sqlalchemy.engine.base.Connection at 0x2623c245a30>"
      ]
     },
     "metadata": {},
     "execution_count": 37
    }
   ],
   "source": [
    "engine = create_engine(strconexao, echo=False)\n",
    "engine.connect()"
   ]
  },
  {
   "cell_type": "code",
   "execution_count": 38,
   "metadata": {},
   "outputs": [],
   "source": [
    "pulls = pd.read_csv(os.path.join(DIRARQ, 'pulls.csv'))\n",
    "pulls.to_sql('pulls', engine)"
   ]
  },
  {
   "cell_type": "code",
   "execution_count": 42,
   "metadata": {},
   "outputs": [],
   "source": [
    "selecionados = pd.read_sql(\n",
    "    '''\n",
    "    select\n",
    "        a.user_login,\n",
    "        a.created_at,\n",
    "        a.updated_at,\n",
    "        (julianday(date('now')) - julianday(a.updated_at)) as diferenca\n",
    "    from pulls a\n",
    "    where\n",
    "        a.user_login in (\n",
    "            'tobiasdiez',\n",
    "            'koppor',\n",
    "            'matthiasgeiger',\n",
    "            'Siedlerchr',\n",
    "            'simonharrer',\n",
    "            'mortenalver',\n",
    "            'oscargus'\n",
    "    )order by user_login, a.updated_at\n",
    "    ''', engine\n",
    ")\n",
    "\n"
   ]
  },
  {
   "cell_type": "code",
   "execution_count": 43,
   "metadata": {
    "tags": []
   },
   "outputs": [
    {
     "output_type": "stream",
     "name": "stdout",
     "text": [
      "['user_login', 'created_at', 'updated_at', 'diferenca']\n"
     ]
    }
   ],
   "source": [
    "print(list(selecionados))"
   ]
  }
 ]
}